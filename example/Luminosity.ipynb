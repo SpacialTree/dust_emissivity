{
 "cells": [
  {
   "cell_type": "markdown",
   "metadata": {},
   "source": [
    "Deriving Luminosity from an SED\n",
    "===============================\n",
    "\n",
    "This notebook demonstrates how to use the [dust_emissivity](https://github.com/keflavich/dustmass) module to compute the luminosity of a dusty source."
   ]
  },
  {
   "cell_type": "code",
   "execution_count": 148,
   "metadata": {
    "collapsed": false
   },
   "outputs": [],
   "source": [
    "from __future__ import print_function\n",
    "%matplotlib inline\n",
    "from dust_emissivity.blackbody import modified_blackbody,integrate_sed,blackbody\n",
    "from astropy import units as u\n",
    "from astropy import constants\n",
    "import pylab as pl"
   ]
  },
  {
   "cell_type": "code",
   "execution_count": 149,
   "metadata": {
    "collapsed": false
   },
   "outputs": [
    {
     "name": "stdout",
     "output_type": "stream",
     "text": [
      "Range:  29.9792458 um  to  2997.92458 um\n"
     ]
    }
   ],
   "source": [
    "frequencies = np.logspace(2, 4, 1000)*u.GHz\n",
    "fmin,fmax = frequencies.min(), frequencies.max()\n",
    "print(\"Range: \",fmax.to(u.um, u.spectral()), \" to \", fmin.to(u.um, u.spectral()))"
   ]
  },
  {
   "cell_type": "code",
   "execution_count": 150,
   "metadata": {
    "collapsed": false
   },
   "outputs": [],
   "source": [
    "temperature = 25*u.K"
   ]
  },
  {
   "cell_type": "code",
   "execution_count": 151,
   "metadata": {
    "collapsed": false
   },
   "outputs": [
    {
     "data": {
      "text/latex": [
       "$1.3039727 \\times 10^{-16} \\; \\mathrm{\\frac{erg}{Hz\\,s\\,cm^{2}}}$"
      ],
      "text/plain": [
       "<Quantity 1.3039727088156444e-16 erg / (cm2 Hz s)>"
      ]
     },
     "execution_count": 151,
     "metadata": {},
     "output_type": "execute_result"
    }
   ],
   "source": [
    "# modified blackbody returns normal bb units\n",
    "modified_blackbody(fmin, temperature, beta=0).to(u.erg/u.s/u.cm**2/u.Hz)\n",
    "# this is the flux per steradian, but angular units are not included in the dust_emissivity tools"
   ]
  },
  {
   "cell_type": "code",
   "execution_count": 152,
   "metadata": {
    "collapsed": false
   },
   "outputs": [
    {
     "data": {
      "text/plain": [
       "[<matplotlib.lines.Line2D at 0x10a248f50>]"
      ]
     },
     "execution_count": 152,
     "metadata": {},
     "output_type": "execute_result"
    },
    {
     "data": {
      "image/png": "[encoded data removed]",
      "text/plain": [
       "<matplotlib.figure.Figure at 0x10a630790>"
      ]
     },
     "metadata": {},
     "output_type": "display_data"
    }
   ],
   "source": [
    "pl.loglog(frequencies, modified_blackbody(frequencies, temperature, beta=0, column=1e22*u.cm**-2), color='b')\n",
    "pl.loglog(frequencies, modified_blackbody(frequencies, temperature, beta=1, column=1e22*u.cm**-2), color='r')\n",
    "pl.loglog(frequencies, modified_blackbody(frequencies, temperature, beta=2, column=1e22*u.cm**-2), color='g')\n",
    "pl.loglog(frequencies, modified_blackbody(frequencies, temperature, beta=0, column=1e21*u.cm**-2), color='b', linestyle='--')\n",
    "pl.loglog(frequencies, modified_blackbody(frequencies, temperature, beta=1, column=1e21*u.cm**-2), color='r', linestyle='--')\n",
    "pl.loglog(frequencies, modified_blackbody(frequencies, temperature, beta=2, column=1e21*u.cm**-2), color='g', linestyle='--')"
   ]
  },
  {
   "cell_type": "code",
   "execution_count": 153,
   "metadata": {
    "collapsed": false
   },
   "outputs": [
    {
     "name": "stdout",
     "output_type": "stream",
     "text": [
      "0.168799551811 erg / (cm2 s)\n"
     ]
    }
   ],
   "source": [
    "integrated_sed = integrate_sed(fmin, fmax, function=modified_blackbody, temperature=25*u.K, beta=1.75)\n",
    "print(integrated_sed) # not integrated over solid angle!"
   ]
  },
  {
   "cell_type": "markdown",
   "metadata": {},
   "source": [
    "To compute the luminosity, we need to measure the emitting area.  For resolved, dusty objects, this is simply the angular area on the sky times the distance.  For example, a 25\"x30\" arcsecond Gaussian blob at a distance of 3.4 kpc:"
   ]
  },
  {
   "cell_type": "code",
   "execution_count": 154,
   "metadata": {
    "collapsed": false
   },
   "outputs": [
    {
     "name": "stdout",
     "output_type": "stream",
     "text": [
      "Source area:  1.21912935864e+37 cm2  and effective physical radius:  1.13155156532 pc\n"
     ]
    }
   ],
   "source": [
    "# Area of a gaussian is 2*pi*a*b\n",
    "angular_area = 2*np.pi*(25*u.arcsec*30*u.arcsec)\n",
    "distance = 3.4*u.kpc\n",
    "# Convert the angles to radians and treat them as unitless\n",
    "physical_area = (angular_area*distance**2).to(u.cm**2, u.dimensionless_angles())\n",
    "#physical_area = (angular_area_in_arcseconds / arcsec_per_radian**2) * distance_in_cm**2\n",
    "print(\"Source area: \",physical_area,\" and effective physical radius: \", (physical_area**0.5).to(u.pc))"
   ]
  },
  {
   "cell_type": "code",
   "execution_count": 155,
   "metadata": {
    "collapsed": false
   },
   "outputs": [
    {
     "name": "stdout",
     "output_type": "stream",
     "text": [
      "1680.97661544 solLum\n"
     ]
    }
   ],
   "source": [
    "# integrated SED * area * pi steradians, since the integrated_sed is per steradian\n",
    "luminosity = integrated_sed * physical_area * np.pi\n",
    "print(luminosity.to(u.L_sun))"
   ]
  },
  {
   "cell_type": "markdown",
   "metadata": {},
   "source": [
    "Now let's go back the other way and determine how bright the source would be.  We are aiming to determine its brightness in MJy/sr."
   ]
  },
  {
   "cell_type": "code",
   "execution_count": 156,
   "metadata": {
    "collapsed": false
   },
   "outputs": [
    {
     "name": "stdout",
     "output_type": "stream",
     "text": [
      "3.71537524828e-15 erg / (cm2 Hz s) 371537524.828 Jy\n"
     ]
    }
   ],
   "source": [
    "flux_density = modified_blackbody((500*u.um).to(u.GHz,u.spectral()), temperature=25*u.K, beta=1.75, column=1e22*u.cm**-2)\n",
    "print(flux_density,flux_density.to(u.Jy))"
   ]
  },
  {
   "cell_type": "code",
   "execution_count": 157,
   "metadata": {
    "collapsed": false
   },
   "outputs": [
    {
     "name": "stdout",
     "output_type": "stream",
     "text": [
      "4.52952304354e+22 erg / (Hz s)\n"
     ]
    }
   ],
   "source": [
    "# Total energy emitted at the source location in a spectral bin per second\n",
    "e_per_bin = flux_density*physical_area\n",
    "print(e_per_bin)"
   ]
  },
  {
   "cell_type": "code",
   "execution_count": 158,
   "metadata": {
    "collapsed": false
   },
   "outputs": [
    {
     "name": "stdout",
     "output_type": "stream",
     "text": [
      "4.11522465561e-22 erg / (cm2 Hz s)\n"
     ]
    }
   ],
   "source": [
    "# Dilute that by the distance**2\n",
    "received_e_per_bin = (e_per_bin / distance**2).to(u.erg/u.s/u.Hz/u.cm**2)\n",
    "print(received_e_per_bin)"
   ]
  },
  {
   "cell_type": "code",
   "execution_count": 159,
   "metadata": {
    "collapsed": false
   },
   "outputs": [
    {
     "name": "stdout",
     "output_type": "stream",
     "text": [
      "8.73277794499e-26 erg / (arcsec2 cm2 Hz s)\n"
     ]
    }
   ],
   "source": [
    "# Then divide out the amount of sky that energy occupies\n",
    "surface_brightness = received_e_per_bin/angular_area\n",
    "print(surface_brightness)"
   ]
  },
  {
   "cell_type": "code",
   "execution_count": 160,
   "metadata": {
    "collapsed": false
   },
   "outputs": [
    {
     "name": "stdout",
     "output_type": "stream",
     "text": [
      "371.537524828 MJy / sr\n"
     ]
    }
   ],
   "source": [
    "# Convert that to the desired unit\n",
    "print(surface_brightness.to(u.MJy/u.sr))"
   ]
  },
  {
   "cell_type": "code",
   "execution_count": 161,
   "metadata": {
    "collapsed": false
   },
   "outputs": [
    {
     "name": "stdout",
     "output_type": "stream",
     "text": [
      "371.537524828 MJy / sr\n"
     ]
    }
   ],
   "source": [
    "# Put that all together:\n",
    "surface_brightness = (flux_density * physical_area / distance**2 / angular_area).to(u.MJy/u.sr)\n",
    "surface_brightness = ((flux_density / distance**2 * physical_area) / angular_area).to(u.MJy/u.sr)\n",
    "print(surface_brightness)"
   ]
  },
  {
   "cell_type": "code",
   "execution_count": 162,
   "metadata": {
    "collapsed": false
   },
   "outputs": [
    {
     "data": {
      "text/latex": [
       "$371.53752 \\; \\mathrm{\\frac{MJy}{sr}}$"
      ],
      "text/plain": [
       "<Quantity 371.5375248282618 MJy / sr>"
      ]
     },
     "execution_count": 162,
     "metadata": {},
     "output_type": "execute_result"
    }
   ],
   "source": [
    "(flux_density/u.sr).to(u.MJy/u.sr)"
   ]
  },
  {
   "cell_type": "markdown",
   "metadata": {},
   "source": [
    "Vega\n",
    "====\n",
    "\n",
    "Tests with Vega to see that we're sane.  Vega, with $M_V=0$, should have $S_\\nu \\sim 4000$ Jy at 500 nm."
   ]
  },
  {
   "cell_type": "code",
   "execution_count": 163,
   "metadata": {
    "collapsed": false
   },
   "outputs": [
    {
     "data": {
      "text/latex": [
       "$1.8951525 \\times 10^{19} \\; \\mathrm{Jy}$"
      ],
      "text/plain": [
       "<Quantity 1.895152481731683e+19 Jy>"
      ]
     },
     "execution_count": 163,
     "metadata": {},
     "output_type": "execute_result"
    }
   ],
   "source": [
    "# Spectral intensity without regard for distance\n",
    "b_vega = blackbody((0.5*u.um).to(u.Hz,u.spectral()), 10000*u.K)\n",
    "b_vega.to(u.Jy)"
   ]
  },
  {
   "cell_type": "code",
   "execution_count": 164,
   "metadata": {
    "collapsed": false
   },
   "outputs": [],
   "source": [
    "r_vega = 2.818*constants.R_sun\n",
    "d_vega = (25.05*u.lyr).to(u.pc)\n",
    "angular_area_vega = (r_vega/d_vega)**2 * np.pi * u.sr"
   ]
  },
  {
   "cell_type": "markdown",
   "metadata": {},
   "source": [
    "Put Vega at a reasonable distance with two different methods for more sanity checks."
   ]
  },
  {
   "cell_type": "code",
   "execution_count": 165,
   "metadata": {
    "collapsed": false
   },
   "outputs": [
    {
     "data": {
      "text/latex": [
       "$4072.0722 \\; \\mathrm{Jy}$"
      ],
      "text/plain": [
       "<Quantity 4072.0721833855328 Jy>"
      ]
     },
     "execution_count": 165,
     "metadata": {},
     "output_type": "execute_result"
    }
   ],
   "source": [
    "(b_vega * (r_vega**2 * np.pi) / d_vega**2).to(u.Jy)"
   ]
  },
  {
   "cell_type": "code",
   "execution_count": 166,
   "metadata": {
    "collapsed": false
   },
   "outputs": [
    {
     "data": {
      "text/latex": [
       "$4072.0722 \\; \\mathrm{Jy}$"
      ],
      "text/plain": [
       "<Quantity 4072.0721833855328 Jy>"
      ]
     },
     "execution_count": 166,
     "metadata": {},
     "output_type": "execute_result"
    }
   ],
   "source": [
    "(b_vega * angular_area_vega).to(u.Jy, u.dimensionless_angles())"
   ]
  },
  {
   "cell_type": "markdown",
   "metadata": {},
   "source": [
    "The surface brightness of Vega:"
   ]
  },
  {
   "cell_type": "code",
   "execution_count": 167,
   "metadata": {
    "collapsed": false
   },
   "outputs": [
    {
     "data": {
      "text/latex": [
       "$1.8951525 \\times 10^{13} \\; \\mathrm{\\frac{MJy}{sr}}$"
      ],
      "text/plain": [
       "<Quantity 18951524817316.832 MJy / sr>"
      ]
     },
     "execution_count": 167,
     "metadata": {},
     "output_type": "execute_result"
    }
   ],
   "source": [
    "((b_vega * angular_area_vega).to(u.Jy, u.dimensionless_angles()) / angular_area_vega).to(u.MJy/u.sr)"
   ]
  },
  {
   "cell_type": "markdown",
   "metadata": {},
   "source": [
    "An example specific to The Snake\n",
    "================================"
   ]
  },
  {
   "cell_type": "code",
   "execution_count": 168,
   "metadata": {
    "collapsed": false
   },
   "outputs": [],
   "source": [
    "T = 24*u.K\n",
    "angular_area = (8*u.arcsec)**2\n",
    "distance = 3.6*u.kpc\n",
    "physical_area = (angular_area.to(u.rad**2)*distance**2).to(u.cm**2, u.dimensionless_angles())\n",
    "beta = 1.75"
   ]
  },
  {
   "cell_type": "code",
   "execution_count": 169,
   "metadata": {
    "collapsed": false
   },
   "outputs": [],
   "source": [
    "nu = (np.array([70,160,250,350,500])*u.um).to(u.Hz,u.spectral())\n",
    "column = 1e23*u.cm**-2"
   ]
  },
  {
   "cell_type": "code",
   "execution_count": 170,
   "metadata": {
    "collapsed": false
   },
   "outputs": [],
   "source": [
    "flux_density = modified_blackbody(nu, T, column=column, beta=beta)"
   ]
  },
  {
   "cell_type": "code",
   "execution_count": 171,
   "metadata": {
    "collapsed": false
   },
   "outputs": [
    {
     "data": {
      "text/plain": [
       "(<Quantity [ 12069.25897604, 39742.21507926, 20739.83151157,\n",
       "              9405.08410352,  3427.14928482] MJy / sr>,\n",
       " <Quantity [ 12069.25897604, 39742.21507926, 20739.83151157,\n",
       "              9405.08410352,  3427.14928482] MJy / sr>)"
      ]
     },
     "execution_count": 171,
     "metadata": {},
     "output_type": "execute_result"
    }
   ],
   "source": [
    "surface_brightness = ((flux_density / distance**2 * physical_area) / angular_area).to(u.MJy/u.sr)\n",
    "surface_brightness2 = ((flux_density / (u.sr))).to(u.MJy/u.sr)\n",
    "surface_brightness,surface_brightness2"
   ]
  },
  {
   "cell_type": "code",
   "execution_count": 172,
   "metadata": {
    "collapsed": false
   },
   "outputs": [
    {
     "data": {
      "text/plain": [
       "<matplotlib.text.Text at 0x10a78a5d0>"
      ]
     },
     "execution_count": 172,
     "metadata": {},
     "output_type": "execute_result"
    },
    {
     "data": {
      "image/png": "[encoded data removed]",
      "text/plain": [
       "<matplotlib.figure.Figure at 0x10a0d5690>"
      ]
     },
     "metadata": {},
     "output_type": "display_data"
    }
   ],
   "source": [
    "pl.loglog(nu, surface_brightness)\n",
    "pl.xlabel(\"Frequency\")\n",
    "pl.ylabel(\"Brightness (MJy/sr)\")"
   ]
  },
  {
   "cell_type": "markdown",
   "metadata": {},
   "source": [
    "Another Stellar Example\n",
    "-----------------------\n",
    "Goal: determine K-band flux of a given star as a function of distance\n",
    "\n",
    "Vacca, Garmany, Shull 1996: an O6.5V star has $T_{eff} = 42280$ K, $R = 10.3$ R$_\\odot$, and $L=10^{5.486}$ L$_\\odot$"
   ]
  },
  {
   "cell_type": "code",
   "execution_count": 173,
   "metadata": {
    "collapsed": false
   },
   "outputs": [
    {
     "data": {
      "text/latex": [
       "$2.2303935 \\times 10^{19} \\; \\mathrm{Jy}$"
      ],
      "text/plain": [
       "<Quantity 2.230393541301617e+19 Jy>"
      ]
     },
     "execution_count": 173,
     "metadata": {},
     "output_type": "execute_result"
    }
   ],
   "source": [
    "K_O6 = blackbody((2.2*u.um).to(u.Hz,u.spectral()), 42280*u.K).to(u.Jy)\n",
    "K_O6"
   ]
  },
  {
   "cell_type": "code",
   "execution_count": 174,
   "metadata": {
    "collapsed": true
   },
   "outputs": [],
   "source": [
    "r_O6 = 10.3*constants.R_sun\n",
    "dist = 1*u.kpc\n",
    "angular_area = (r_O6/dist)**2 * np.pi * u.sr"
   ]
  },
  {
   "cell_type": "code",
   "execution_count": 175,
   "metadata": {
    "collapsed": false
   },
   "outputs": [
    {
     "data": {
      "text/latex": [
       "$3.7766696 \\; \\mathrm{Jy}$"
      ],
      "text/plain": [
       "<Quantity 3.776669578859788 Jy>"
      ]
     },
     "execution_count": 175,
     "metadata": {},
     "output_type": "execute_result"
    }
   ],
   "source": [
    "flux_K_O6 = (K_O6 * angular_area).to(u.Jy, u.dimensionless_angles())\n",
    "flux_K_O6"
   ]
  },
  {
   "cell_type": "code",
   "execution_count": 176,
   "metadata": {
    "collapsed": false
   },
   "outputs": [
    {
     "data": {
      "text/plain": [
       "5.6438518740710588"
      ]
     },
     "execution_count": 176,
     "metadata": {},
     "output_type": "execute_result"
    }
   ],
   "source": [
    "flux_K_mag0 = 666.6*u.Jy # from 2MASS via file:///Users/adam/repos/adamginsburg.github.com/filtersets.htm\n",
    "mag_O6_K = -2.512*(np.log10(flux_K_O6.value) - np.log10(flux_K_mag0.value))\n",
    "mag_O6_K"
   ]
  },
  {
   "cell_type": "code",
   "execution_count": 177,
   "metadata": {
    "collapsed": false
   },
   "outputs": [
    {
     "data": {
      "text/plain": [
       "9.3274349339664635"
      ]
     },
     "execution_count": 177,
     "metadata": {},
     "output_type": "execute_result"
    }
   ],
   "source": [
    "# now the same at a distance of 5.4 kpc (for W51)\n",
    "mag_O6_K_W51 = mag_O6_K + 2.512*2*np.log10(5.41/1.0)\n",
    "mag_O6_K_W51"
   ]
  },
  {
   "cell_type": "markdown",
   "metadata": {},
   "source": [
    "Now, the same for an O9.5.  $L=10^{4.972}$, $R=8.5$, $T_{eff}=34620$"
   ]
  },
  {
   "cell_type": "code",
   "execution_count": 178,
   "metadata": {
    "collapsed": false
   },
   "outputs": [
    {
     "data": {
      "text/latex": [
       "$1.7944408 \\times 10^{19} \\; \\mathrm{Jy}$"
      ],
      "text/plain": [
       "<Quantity 1.7944408169640477e+19 Jy>"
      ]
     },
     "execution_count": 178,
     "metadata": {},
     "output_type": "execute_result"
    }
   ],
   "source": [
    "K_O9 = blackbody((2.2*u.um).to(u.Hz,u.spectral()), 34620*u.K).to(u.Jy)\n",
    "K_O9"
   ]
  },
  {
   "cell_type": "code",
   "execution_count": 179,
   "metadata": {
    "collapsed": true
   },
   "outputs": [],
   "source": [
    "R_O9 = 8.5*constants.R_sun"
   ]
  },
  {
   "cell_type": "code",
   "execution_count": 180,
   "metadata": {
    "collapsed": false
   },
   "outputs": [
    {
     "data": {
      "text/plain": [
       "6.3002097352814674"
      ]
     },
     "execution_count": 180,
     "metadata": {},
     "output_type": "execute_result"
    }
   ],
   "source": [
    "flux_K_O9 = (K_O9 * (R_O9/dist)**2 * np.pi * u.sr).to(u.Jy, u.dimensionless_angles())\n",
    "mag_O9_K = -2.512*(np.log10(flux_K_O9.value) - np.log10(flux_K_mag0.value))\n",
    "mag_O9_K"
   ]
  },
  {
   "cell_type": "code",
   "execution_count": 181,
   "metadata": {
    "collapsed": false
   },
   "outputs": [
    {
     "data": {
      "text/plain": [
       "9.983792795176873"
      ]
     },
     "execution_count": 181,
     "metadata": {},
     "output_type": "execute_result"
    }
   ],
   "source": [
    "mag_O9_K_W51 = mag_O9_K + 2.512*2*np.log10(5.41/1.0)\n",
    "mag_O9_K_W51"
   ]
  },
  {
   "cell_type": "code",
   "execution_count": 182,
   "metadata": {
    "collapsed": false
   },
   "outputs": [
    {
     "data": {
      "text/latex": [
       "$2.5928057 \\times 10^{13} \\; \\mathrm{\\frac{erg}{s\\,cm^{2}}}$"
      ],
      "text/plain": [
       "<Quantity 25928056699415.84 erg / (cm2 s)>"
      ]
     },
     "execution_count": 182,
     "metadata": {},
     "output_type": "execute_result"
    }
   ],
   "source": [
    "# luminosity check:\n",
    "integrated_sed_O9 = integrate_sed(50*u.AA, 50*u.um, function=blackbody, temperature=34620*u.K)\n",
    "integrated_sed_O9"
   ]
  },
  {
   "cell_type": "code",
   "execution_count": 183,
   "metadata": {
    "collapsed": false
   },
   "outputs": [
    {
     "data": {
      "text/latex": [
       "$8.14554 \\times 10^{13} \\; \\mathrm{\\frac{erg}{s\\,cm^{2}}}$"
      ],
      "text/plain": [
       "<Quantity 81455400263707.94 erg / (cm2 s)>"
      ]
     },
     "execution_count": 183,
     "metadata": {},
     "output_type": "execute_result"
    }
   ],
   "source": [
    "(constants.sigma_sb * (34620*u.K)**4).to(u.erg/u.s/u.cm**2)"
   ]
  },
  {
   "cell_type": "code",
   "execution_count": 184,
   "metadata": {
    "collapsed": false
   },
   "outputs": [
    {
     "data": {
      "text/latex": [
       "$3.141593 \\; \\mathrm{}$"
      ],
      "text/plain": [
       "<Quantity 3.1415929549993282>"
      ]
     },
     "execution_count": 184,
     "metadata": {},
     "output_type": "execute_result"
    }
   ],
   "source": [
    "(constants.sigma_sb * (34620*u.K)**4).to(u.erg/u.s/u.cm**2) / integrated_sed_O9"
   ]
  },
  {
   "cell_type": "markdown",
   "metadata": {},
   "source": [
    "Check that the luminosity comes out right."
   ]
  },
  {
   "cell_type": "code",
   "execution_count": 185,
   "metadata": {
    "collapsed": false
   },
   "outputs": [
    {
     "name": "stdout",
     "output_type": "stream",
     "text": [
      "Computed luminosity 93017.0443516 solLum vs VGS96: 93756.2006926 solLum\n"
     ]
    }
   ],
   "source": [
    "surface_area_O9 = 4*np.pi*R_O9**2\n",
    "lum_O9 = (integrated_sed_O9 * np.pi * surface_area_O9).to(u.L_sun)\n",
    "lum_O9\n",
    "print(\"Computed luminosity {0} vs VGS96: {1}\".format(lum_O9, 10**4.972*u.L_sun))"
   ]
  },
  {
   "cell_type": "code",
   "execution_count": 188,
   "metadata": {
    "collapsed": false
   },
   "outputs": [
    {
     "name": "stdout",
     "output_type": "stream",
     "text": [
      "Computed luminosity 60596.9091381 solLum vs VGS96: 61517.687271 solLum\n",
      "M_K = 10.2083758278\n"
     ]
    }
   ],
   "source": [
    "# One last time, for B0.5\n",
    "T_B0 = 32060*u.K\n",
    "K_B0 = blackbody((2.2*u.um).to(u.Hz,u.spectral()), T_B0).to(u.Jy)\n",
    "R_B0 = 8.0*constants.R_sun\n",
    "flux_K_B0 = (K_B0 * (R_B0/dist)**2 * np.pi * u.sr).to(u.Jy, u.dimensionless_angles())\n",
    "mag_B0_K = -2.512*(np.log10(flux_K_B0.value) - np.log10(flux_K_mag0.value))\n",
    "mag_B0_K_W51 = mag_B0_K + 2.512*2*np.log10(5.41/1.0)\n",
    "integrated_sed_B0 = integrate_sed(50*u.AA, 50*u.um, function=blackbody, temperature=T_B0)\n",
    "(constants.sigma_sb * (T_B0)**4).to(u.erg/u.s/u.cm**2) / integrated_sed_B0\n",
    "surface_area_B0 = 4*np.pi*R_B0**2\n",
    "lum_B0 = (integrated_sed_B0 * np.pi * surface_area_B0).to(u.L_sun)\n",
    "print(\"Computed luminosity {0} vs VGS96: {1}\".format(lum_B0, 10**4.789*u.L_sun))\n",
    "print(\"M_K = {0}\".format(mag_B0_K_W51))"
   ]
  },
  {
   "cell_type": "code",
   "execution_count": null,
   "metadata": {
    "collapsed": true
   },
   "outputs": [],
   "source": []
  }
 ],
 "metadata": {
  "kernelspec": {
   "display_name": "Python 2",
   "language": "python",
   "name": "python2"
  },
  "language_info": {
   "codemirror_mode": {
    "name": "ipython",
    "version": 2
   },
   "file_extension": ".py",
   "mimetype": "text/x-python",
   "name": "python",
   "nbconvert_exporter": "python",
   "pygments_lexer": "ipython2",
   "version": "2.7.10"
  }
 },
 "nbformat": 4,
 "nbformat_minor": 0
}
