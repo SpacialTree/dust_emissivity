{
 "metadata": {
  "name": "",
  "signature": "sha256:037d8c46ac8fcef6df54a977ae710f8f80c065a556335f50398cb77da3a1258d"
 },
 "nbformat": 3,
 "nbformat_minor": 0,
 "worksheets": [
  {
   "cells": [
    {
     "cell_type": "markdown",
     "metadata": {},
     "source": [
      "Deriving Luminosity from an SED\n",
      "===============================\n",
      "\n",
      "This notebook demonstrates how to use the [dust_emissivity](https://github.com/keflavich/dustmass) module to compute the luminosity of a dusty source."
     ]
    },
    {
     "cell_type": "code",
     "collapsed": false,
     "input": [
      "from __future__ import print_function\n",
      "from dust_emissivity import modified_blackbody,integrate_sed\n",
      "from astropy import units as u\n",
      "from astropy import constants\n",
      "import pylab as pl"
     ],
     "language": "python",
     "metadata": {},
     "outputs": [],
     "prompt_number": 1
    },
    {
     "cell_type": "code",
     "collapsed": false,
     "input": [
      "frequencies = np.logspace(2, 4, 1000)*u.GHz\n",
      "fmin,fmax = frequencies.min(), frequencies.max()\n",
      "print(\"Range: \",fmax.to(u.um, u.spectral()), \" to \", fmin.to(u.um, u.spectral()))"
     ],
     "language": "python",
     "metadata": {},
     "outputs": [
      {
       "output_type": "stream",
       "stream": "stdout",
       "text": [
        "Range:  29.9792458 um  to  2997.92458 um\n"
       ]
      }
     ],
     "prompt_number": 2
    },
    {
     "cell_type": "code",
     "collapsed": false,
     "input": [
      "temperature = 25*u.K"
     ],
     "language": "python",
     "metadata": {},
     "outputs": [],
     "prompt_number": 3
    },
    {
     "cell_type": "code",
     "collapsed": false,
     "input": [
      "# modified blackbody returns normal bb units\n",
      "modified_blackbody(fmin, temperature, beta=0).to(u.erg/u.s/u.cm**2/u.Hz)"
     ],
     "language": "python",
     "metadata": {},
     "outputs": [
      {
       "latex": [
        "$1.30397\\times 10^{-16} \\; \\mathrm{\\frac{erg}{Hz\\,s\\,cm^{2}}}$"
       ],
       "metadata": {},
       "output_type": "pyout",
       "prompt_number": 4,
       "text": [
        "<Quantity 1.3039727088156444e-16 erg / (cm2 Hz s)>"
       ]
      }
     ],
     "prompt_number": 4
    },
    {
     "cell_type": "code",
     "collapsed": false,
     "input": [
      "pl.loglog(frequencies, modified_blackbody(frequencies, temperature, beta=0, column=1e22*u.cm**-2), color='b')\n",
      "pl.loglog(frequencies, modified_blackbody(frequencies, temperature, beta=1, column=1e22*u.cm**-2), color='r')\n",
      "pl.loglog(frequencies, modified_blackbody(frequencies, temperature, beta=2, column=1e22*u.cm**-2), color='g')\n",
      "pl.loglog(frequencies, modified_blackbody(frequencies, temperature, beta=0, column=1e21*u.cm**-2), color='b', linestyle='--')\n",
      "pl.loglog(frequencies, modified_blackbody(frequencies, temperature, beta=1, column=1e21*u.cm**-2), color='r', linestyle='--')\n",
      "pl.loglog(frequencies, modified_blackbody(frequencies, temperature, beta=2, column=1e21*u.cm**-2), color='g', linestyle='--')"
     ],
     "language": "python",
     "metadata": {},
     "outputs": [
      {
       "metadata": {},
       "output_type": "pyout",
       "prompt_number": 5,
       "text": [
        "[<matplotlib.lines.Line2D at 0x10893a090>]"
       ]
      },
      {
       "metadata": {},
       "output_type": "display_data",
       "png": "[encoded data removed]",
       "text": [
        "<matplotlib.figure.Figure at 0x1088dbfd0>"
       ]
      }
     ],
     "prompt_number": 5
    },
    {
     "cell_type": "code",
     "collapsed": false,
     "input": [
      "integrated_sed = integrate_sed(fmin, fmax, function=modified_blackbody, temperature=25*u.K, beta=1.75)\n",
      "print(integrated_sed)"
     ],
     "language": "python",
     "metadata": {},
     "outputs": [
      {
       "output_type": "stream",
       "stream": "stdout",
       "text": [
        "0.168799551811 erg / (cm2 s)\n"
       ]
      }
     ],
     "prompt_number": 6
    },
    {
     "cell_type": "markdown",
     "metadata": {},
     "source": [
      "To compute the luminosity, we need to measure the emitting area.  For resolved, dusty objects, this is simply the angular area on the sky times the distance.  For example, a 25\"x30\" arcsecond Gaussian blob at a distance of 3.4 kpc:"
     ]
    },
    {
     "cell_type": "code",
     "collapsed": false,
     "input": [
      "# Area of a gaussian is 2*pi*a*b\n",
      "angular_area = 2*np.pi*(25*u.arcsec*30*u.arcsec)\n",
      "distance = 3.4*u.kpc\n",
      "# Convert the angles to radians and treat them as unitless\n",
      "physical_area = (angular_area*distance**2).to(u.cm**2, u.dimensionless_angles())\n",
      "print(\"Source area: \",physical_area,\" and effective physical radius: \", (physical_area**0.5).to(u.pc))"
     ],
     "language": "python",
     "metadata": {},
     "outputs": [
      {
       "output_type": "stream",
       "stream": "stdout",
       "text": [
        "Source area:  1.21912935864e+37 cm2  and effective physical radius:  1.13155156532 pc\n"
       ]
      }
     ],
     "prompt_number": 7
    },
    {
     "cell_type": "code",
     "collapsed": false,
     "input": [
      "luminosity = integrated_sed * physical_area\n",
      "print(luminosity.to(u.L_sun))"
     ],
     "language": "python",
     "metadata": {},
     "outputs": [
      {
       "output_type": "stream",
       "stream": "stdout",
       "text": [
        "535.071475137 solLum\n"
       ]
      }
     ],
     "prompt_number": 8
    },
    {
     "cell_type": "markdown",
     "metadata": {},
     "source": [
      "Now let's go back the other way and determine how bright the source would be.  We are aiming to determine its brightness in MJy/sr."
     ]
    },
    {
     "cell_type": "code",
     "collapsed": false,
     "input": [
      "flux_density = modified_blackbody((500*u.um).to(u.GHz,u.spectral()), temperature=25*u.K, beta=1.75)\n",
      "print(flux_density)"
     ],
     "language": "python",
     "metadata": {},
     "outputs": [
      {
       "output_type": "stream",
       "stream": "stdout",
       "text": [
        "3.71537524828e-15 erg / (cm2 Hz s)\n"
       ]
      }
     ],
     "prompt_number": 9
    },
    {
     "cell_type": "code",
     "collapsed": false,
     "input": [
      "# Total energy emitted at the source location in a spectral bin per second\n",
      "e_per_bin = flux_density*physical_area\n",
      "print(e_per_bin)"
     ],
     "language": "python",
     "metadata": {},
     "outputs": [
      {
       "output_type": "stream",
       "stream": "stdout",
       "text": [
        "4.52952304354e+22 erg / (Hz s)\n"
       ]
      }
     ],
     "prompt_number": 10
    },
    {
     "cell_type": "code",
     "collapsed": false,
     "input": [
      "# Dilute that by the distance**2\n",
      "received_e_per_bin = (e_per_bin / distance**2).to(u.erg/u.s/u.Hz/u.cm**2)\n",
      "print(received_e_per_bin)"
     ],
     "language": "python",
     "metadata": {},
     "outputs": [
      {
       "output_type": "stream",
       "stream": "stdout",
       "text": [
        "4.11522465561e-22 erg / (cm2 Hz s)\n"
       ]
      }
     ],
     "prompt_number": 11
    },
    {
     "cell_type": "code",
     "collapsed": false,
     "input": [
      "# Then divide out the amount of sky that energy occupies\n",
      "surface_brightness = received_e_per_bin/angular_area\n",
      "print(surface_brightness)"
     ],
     "language": "python",
     "metadata": {},
     "outputs": [
      {
       "output_type": "stream",
       "stream": "stdout",
       "text": [
        "8.73277794499e-26 erg / (arcsec2 cm2 Hz s)\n"
       ]
      }
     ],
     "prompt_number": 12
    },
    {
     "cell_type": "code",
     "collapsed": false,
     "input": [
      "# Convert that to the desired unit\n",
      "print(surface_brightness.to(u.MJy/u.sr))"
     ],
     "language": "python",
     "metadata": {},
     "outputs": [
      {
       "output_type": "stream",
       "stream": "stdout",
       "text": [
        "371.537524828 MJy / sr\n"
       ]
      }
     ],
     "prompt_number": 13
    },
    {
     "cell_type": "code",
     "collapsed": false,
     "input": [
      "# Put that all together:\n",
      "surface_brightness = (flux_density * physical_area / distance**2 / angular_area).to(u.MJy/u.sr)\n",
      "print(surface_brightness)"
     ],
     "language": "python",
     "metadata": {},
     "outputs": [
      {
       "output_type": "stream",
       "stream": "stdout",
       "text": [
        "371.537524828 MJy / sr\n"
       ]
      }
     ],
     "prompt_number": 14
    }
   ],
   "metadata": {}
  }
 ]
}