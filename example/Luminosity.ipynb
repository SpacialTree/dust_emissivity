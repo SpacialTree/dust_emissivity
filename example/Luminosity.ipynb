{
 "cells": [
  {
   "cell_type": "markdown",
   "metadata": {},
   "source": [
    "Deriving Luminosity from an SED\n",
    "===============================\n",
    "\n",
    "This notebook demonstrates how to use the [dust_emissivity](https://github.com/keflavich/dustmass) module to compute the luminosity of a dusty source."
   ]
  },
  {
   "cell_type": "code",
   "execution_count": 1,
   "metadata": {},
   "outputs": [],
   "source": [
    "from __future__ import print_function\n",
    "%matplotlib inline\n",
    "from dust_emissivity.blackbody import modified_blackbody,integrate_sed,blackbody\n",
    "from astropy import units as u\n",
    "from astropy import constants\n",
    "import pylab as pl"
   ]
  },
  {
   "cell_type": "code",
   "execution_count": 2,
   "metadata": {},
   "outputs": [
    {
     "name": "stdout",
     "output_type": "stream",
     "text": [
      "Range:  29.979245799999998 um  to  2997.9245800000003 um\n"
     ]
    }
   ],
   "source": [
    "frequencies = np.logspace(2, 4, 1000)*u.GHz\n",
    "fmin,fmax = frequencies.min(), frequencies.max()\n",
    "print(\"Range: \",fmax.to(u.um, u.spectral()), \" to \", fmin.to(u.um, u.spectral()))"
   ]
  },
  {
   "cell_type": "code",
   "execution_count": 3,
   "metadata": {},
   "outputs": [],
   "source": [
    "temperature = 25*u.K"
   ]
  },
  {
   "cell_type": "code",
   "execution_count": 4,
   "metadata": {},
   "outputs": [
    {
     "data": {
      "text/latex": [
       "$1.303973 \\times 10^{-16} \\; \\mathrm{\\frac{erg}{Hz\\,s\\,cm^{2}}}$"
      ],
      "text/plain": [
       "<Quantity 1.30397302e-16 erg / (cm2 Hz s)>"
      ]
     },
     "execution_count": 4,
     "metadata": {},
     "output_type": "execute_result"
    }
   ],
   "source": [
    "# modified blackbody returns normal bb units\n",
    "(modified_blackbody(fmin, temperature, beta=0)*u.sr).to(u.erg/u.s/u.cm**2/u.Hz)\n",
    "# this is the flux per steradian, but angular units are not included in the dust_emissivity tools"
   ]
  },
  {
   "cell_type": "code",
   "execution_count": 5,
   "metadata": {},
   "outputs": [
    {
     "data": {
      "text/plain": [
       "[<matplotlib.lines.Line2D at 0x117a4f400>]"
      ]
     },
     "execution_count": 5,
     "metadata": {},
     "output_type": "execute_result"
    },
    {
     "data": {
      "image/png": "[encoded data removed]",
      "text/plain": [
       "<Figure size 432x288 with 1 Axes>"
      ]
     },
     "metadata": {
      "needs_background": "light"
     },
     "output_type": "display_data"
    }
   ],
   "source": [
    "pl.loglog(frequencies, modified_blackbody(frequencies, temperature, beta=0, column=1e22*u.cm**-2), color='b')\n",
    "pl.loglog(frequencies, modified_blackbody(frequencies, temperature, beta=1, column=1e22*u.cm**-2), color='r')\n",
    "pl.loglog(frequencies, modified_blackbody(frequencies, temperature, beta=2, column=1e22*u.cm**-2), color='g')\n",
    "pl.loglog(frequencies, modified_blackbody(frequencies, temperature, beta=0, column=1e21*u.cm**-2), color='b', linestyle='--')\n",
    "pl.loglog(frequencies, modified_blackbody(frequencies, temperature, beta=1, column=1e21*u.cm**-2), color='r', linestyle='--')\n",
    "pl.loglog(frequencies, modified_blackbody(frequencies, temperature, beta=2, column=1e21*u.cm**-2), color='g', linestyle='--')"
   ]
  },
  {
   "cell_type": "code",
   "execution_count": 6,
   "metadata": {},
   "outputs": [
    {
     "name": "stdout",
     "output_type": "stream",
     "text": [
      "0.16879963630372383 erg / (cm2 s)\n"
     ]
    }
   ],
   "source": [
    "integrated_sed = integrate_sed(fmin, fmax, function=modified_blackbody, temperature=25*u.K, beta=1.75)\n",
    "print(integrated_sed) # not integrated over solid angle!"
   ]
  },
  {
   "cell_type": "markdown",
   "metadata": {},
   "source": [
    "To compute the luminosity, we need to measure the emitting area.  For resolved, dusty objects, this is simply the angular area on the sky times the distance.  For example, a 25\"x30\" arcsecond Gaussian blob at a distance of 3.4 kpc:"
   ]
  },
  {
   "cell_type": "code",
   "execution_count": 7,
   "metadata": {},
   "outputs": [
    {
     "name": "stdout",
     "output_type": "stream",
     "text": [
      "Source area:  1.2191293586386516e+37 cm2  and effective physical radius:  1.1315515653245216 pc\n"
     ]
    }
   ],
   "source": [
    "# Area of a gaussian is 2*pi*a*b\n",
    "angular_area = 2*np.pi*(25*u.arcsec*30*u.arcsec)\n",
    "distance = 3.4*u.kpc\n",
    "# Convert the angles to radians and treat them as unitless\n",
    "physical_area = (angular_area*distance**2).to(u.cm**2, u.dimensionless_angles())\n",
    "#physical_area = (angular_area_in_arcseconds / arcsec_per_radian**2) * distance_in_cm**2\n",
    "print(\"Source area: \",physical_area,\" and effective physical radius: \", (physical_area**0.5).to(u.pc))"
   ]
  },
  {
   "cell_type": "code",
   "execution_count": 8,
   "metadata": {},
   "outputs": [
    {
     "name": "stdout",
     "output_type": "stream",
     "text": [
      "1688.8817395634335 solLum\n"
     ]
    }
   ],
   "source": [
    "# integrated SED * area * pi steradians, since the integrated_sed is per steradian\n",
    "luminosity = integrated_sed * physical_area * np.pi\n",
    "print(luminosity.to(u.L_sun))"
   ]
  },
  {
   "cell_type": "markdown",
   "metadata": {},
   "source": [
    "Now let's go back the other way and determine how bright the source would be.  We are aiming to determine its brightness in MJy/sr."
   ]
  },
  {
   "cell_type": "code",
   "execution_count": 11,
   "metadata": {},
   "outputs": [
    {
     "name": "stdout",
     "output_type": "stream",
     "text": [
      "3.715376257507595e-15 erg / (cm2 Hz s sr) 371537625.7507594 Jy\n"
     ]
    }
   ],
   "source": [
    "flux_density = modified_blackbody((500*u.um).to(u.GHz,u.spectral()), temperature=25*u.K, beta=1.75, column=1e22*u.cm**-2)\n",
    "print(flux_density,(flux_density*u.sr).to(u.Jy))"
   ]
  },
  {
   "cell_type": "code",
   "execution_count": 12,
   "metadata": {},
   "outputs": [
    {
     "name": "stdout",
     "output_type": "stream",
     "text": [
      "4.529524273916508e+22 erg / (Hz s sr)\n"
     ]
    }
   ],
   "source": [
    "# Total energy emitted at the source location in a spectral bin per second\n",
    "e_per_bin = flux_density*physical_area\n",
    "print(e_per_bin)"
   ]
  },
  {
   "cell_type": "code",
   "execution_count": 16,
   "metadata": {},
   "outputs": [
    {
     "name": "stdout",
     "output_type": "stream",
     "text": [
      "4.1152257734516936e-22 erg / (cm2 Hz s)\n"
     ]
    }
   ],
   "source": [
    "# Dilute that by the distance**2\n",
    "received_e_per_bin = (e_per_bin / distance**2 * u.sr).to(u.erg/u.s/u.Hz/u.cm**2)\n",
    "print(received_e_per_bin)"
   ]
  },
  {
   "cell_type": "code",
   "execution_count": 17,
   "metadata": {},
   "outputs": [
    {
     "name": "stdout",
     "output_type": "stream",
     "text": [
      "2.5510874018267537e-42 erg kpc2 / (cm2 Hz m2 s sr)\n"
     ]
    }
   ],
   "source": [
    "# Then divide out the amount of sky that energy occupies\n",
    "surface_brightness = received_e_per_bin/angular_area\n",
    "print(surface_brightness)"
   ]
  },
  {
   "cell_type": "code",
   "execution_count": 18,
   "metadata": {},
   "outputs": [
    {
     "name": "stdout",
     "output_type": "stream",
     "text": [
      "242899392431878.94 MJy / sr\n"
     ]
    }
   ],
   "source": [
    "# Convert that to the desired unit\n",
    "print(surface_brightness.to(u.MJy/u.sr))"
   ]
  },
  {
   "cell_type": "code",
   "execution_count": 21,
   "metadata": {},
   "outputs": [
    {
     "name": "stdout",
     "output_type": "stream",
     "text": [
      "242899392431878.9 MJy / sr\n"
     ]
    }
   ],
   "source": [
    "# Put that all together:\n",
    "surface_brightness = (u.sr * flux_density * physical_area / distance**2 / angular_area).to(u.MJy/u.sr)\n",
    "surface_brightness = (u.sr * (flux_density / distance**2 * physical_area) / angular_area).to(u.MJy/u.sr)\n",
    "print(surface_brightness)"
   ]
  },
  {
   "cell_type": "code",
   "execution_count": 24,
   "metadata": {},
   "outputs": [
    {
     "data": {
      "text/latex": [
       "$371.53763 \\; \\mathrm{\\frac{MJy}{sr}}$"
      ],
      "text/plain": [
       "<Quantity 371.53762575 MJy / sr>"
      ]
     },
     "execution_count": 24,
     "metadata": {},
     "output_type": "execute_result"
    }
   ],
   "source": [
    "(flux_density).to(u.MJy/u.sr)"
   ]
  },
  {
   "cell_type": "markdown",
   "metadata": {},
   "source": [
    "Vega\n",
    "====\n",
    "\n",
    "Tests with Vega to see that we're sane.  Vega, with $M_V=0$, should have $S_\\nu \\sim 4000$ Jy at 500 nm."
   ]
  },
  {
   "cell_type": "code",
   "execution_count": 27,
   "metadata": {},
   "outputs": [
    {
     "data": {
      "text/latex": [
       "$1.895153 \\times 10^{19} \\; \\mathrm{Jy}$"
      ],
      "text/plain": [
       "<Quantity 1.89515298e+19 Jy>"
      ]
     },
     "execution_count": 27,
     "metadata": {},
     "output_type": "execute_result"
    }
   ],
   "source": [
    "# Spectral intensity without regard for distance\n",
    "b_vega = blackbody((0.5*u.um).to(u.Hz,u.spectral()), 10000*u.K)*u.sr\n",
    "b_vega.to(u.Jy)"
   ]
  },
  {
   "cell_type": "code",
   "execution_count": 28,
   "metadata": {},
   "outputs": [],
   "source": [
    "r_vega = 2.818*constants.R_sun\n",
    "d_vega = (25.05*u.lyr).to(u.pc)\n",
    "angular_area_vega = (r_vega/d_vega)**2 * np.pi * u.sr"
   ]
  },
  {
   "cell_type": "markdown",
   "metadata": {},
   "source": [
    "Put Vega at a reasonable distance with two different methods for more sanity checks."
   ]
  },
  {
   "cell_type": "code",
   "execution_count": 29,
   "metadata": {},
   "outputs": [
    {
     "data": {
      "text/latex": [
       "$4074.3218 \\; \\mathrm{Jy}$"
      ],
      "text/plain": [
       "<Quantity 4074.32181232 Jy>"
      ]
     },
     "execution_count": 29,
     "metadata": {},
     "output_type": "execute_result"
    }
   ],
   "source": [
    "(b_vega * (r_vega**2 * np.pi) / d_vega**2).to(u.Jy)"
   ]
  },
  {
   "cell_type": "code",
   "execution_count": 30,
   "metadata": {},
   "outputs": [
    {
     "data": {
      "text/latex": [
       "$4074.3218 \\; \\mathrm{Jy}$"
      ],
      "text/plain": [
       "<Quantity 4074.32181232 Jy>"
      ]
     },
     "execution_count": 30,
     "metadata": {},
     "output_type": "execute_result"
    }
   ],
   "source": [
    "(b_vega * angular_area_vega).to(u.Jy, u.dimensionless_angles())"
   ]
  },
  {
   "cell_type": "markdown",
   "metadata": {},
   "source": [
    "The surface brightness of Vega:"
   ]
  },
  {
   "cell_type": "code",
   "execution_count": 31,
   "metadata": {},
   "outputs": [
    {
     "data": {
      "text/latex": [
       "$1.895153 \\times 10^{13} \\; \\mathrm{\\frac{MJy}{sr}}$"
      ],
      "text/plain": [
       "<Quantity 1.89515298e+13 MJy / sr>"
      ]
     },
     "execution_count": 31,
     "metadata": {},
     "output_type": "execute_result"
    }
   ],
   "source": [
    "((b_vega * angular_area_vega).to(u.Jy, u.dimensionless_angles()) / angular_area_vega).to(u.MJy/u.sr)"
   ]
  },
  {
   "cell_type": "markdown",
   "metadata": {},
   "source": [
    "An example specific to The Snake\n",
    "================================"
   ]
  },
  {
   "cell_type": "code",
   "execution_count": 32,
   "metadata": {},
   "outputs": [],
   "source": [
    "T = 24*u.K\n",
    "angular_area = (8*u.arcsec)**2\n",
    "distance = 3.6*u.kpc\n",
    "physical_area = (angular_area.to(u.rad**2)*distance**2).to(u.cm**2, u.dimensionless_angles())\n",
    "beta = 1.75"
   ]
  },
  {
   "cell_type": "code",
   "execution_count": 33,
   "metadata": {},
   "outputs": [],
   "source": [
    "nu = (np.array([70,160,250,350,500])*u.um).to(u.Hz,u.spectral())\n",
    "column = 1e23*u.cm**-2"
   ]
  },
  {
   "cell_type": "code",
   "execution_count": 34,
   "metadata": {},
   "outputs": [],
   "source": [
    "flux_density = modified_blackbody(nu, T, column=column, beta=beta)"
   ]
  },
  {
   "cell_type": "code",
   "execution_count": 37,
   "metadata": {},
   "outputs": [
    {
     "data": {
      "text/plain": [
       "(<Quantity [12069.2666541 , 39742.23047218, 20739.83820571,  9405.08685898,\n",
       "             3427.15021882] MJy / sr>,\n",
       " <Quantity [12069.2666541 , 39742.23047218, 20739.83820571,  9405.08685898,\n",
       "             3427.15021882] MJy / sr>)"
      ]
     },
     "execution_count": 37,
     "metadata": {},
     "output_type": "execute_result"
    }
   ],
   "source": [
    "surface_brightness = ((flux_density / distance**2 * physical_area) / angular_area * u.sr).to(u.MJy/u.sr)\n",
    "surface_brightness2 = ((flux_density / (u.sr)) * u.sr).to(u.MJy/u.sr)\n",
    "surface_brightness,surface_brightness2"
   ]
  },
  {
   "cell_type": "code",
   "execution_count": 38,
   "metadata": {},
   "outputs": [
    {
     "data": {
      "text/plain": [
       "Text(0,0.5,'Brightness (MJy/sr)')"
      ]
     },
     "execution_count": 38,
     "metadata": {},
     "output_type": "execute_result"
    },
    {
     "data": {
      "image/png": "[encoded data removed]",
      "text/plain": [
       "<Figure size 432x288 with 1 Axes>"
      ]
     },
     "metadata": {
      "needs_background": "light"
     },
     "output_type": "display_data"
    }
   ],
   "source": [
    "pl.loglog(nu, surface_brightness)\n",
    "pl.xlabel(\"Frequency\")\n",
    "pl.ylabel(\"Brightness (MJy/sr)\")"
   ]
  },
  {
   "cell_type": "markdown",
   "metadata": {},
   "source": [
    "Another Stellar Example\n",
    "-----------------------\n",
    "Goal: determine K-band flux of a given star as a function of distance\n",
    "\n",
    "Vacca, Garmany, Shull 1996: an O6.5V star has $T_{eff} = 42280$ K, $R = 10.3$ R$_\\odot$, and $L=10^{5.486}$ L$_\\odot$"
   ]
  },
  {
   "cell_type": "code",
   "execution_count": 41,
   "metadata": {},
   "outputs": [
    {
     "data": {
      "text/latex": [
       "$2.2303939 \\times 10^{19} \\; \\mathrm{Jy}$"
      ],
      "text/plain": [
       "<Quantity 2.23039387e+19 Jy>"
      ]
     },
     "execution_count": 41,
     "metadata": {},
     "output_type": "execute_result"
    }
   ],
   "source": [
    "K_O6 = (blackbody((2.2*u.um).to(u.Hz,u.spectral()), 42280*u.K)*u.sr).to(u.Jy)\n",
    "K_O6"
   ]
  },
  {
   "cell_type": "code",
   "execution_count": 42,
   "metadata": {},
   "outputs": [],
   "source": [
    "r_O6 = 10.3*constants.R_sun\n",
    "dist = 1*u.kpc\n",
    "angular_area = (r_O6/dist)**2 * np.pi * u.sr"
   ]
  },
  {
   "cell_type": "code",
   "execution_count": 43,
   "metadata": {},
   "outputs": [
    {
     "data": {
      "text/latex": [
       "$3.7787556 \\; \\mathrm{Jy}$"
      ],
      "text/plain": [
       "<Quantity 3.77875558 Jy>"
      ]
     },
     "execution_count": 43,
     "metadata": {},
     "output_type": "execute_result"
    }
   ],
   "source": [
    "flux_K_O6 = (K_O6 * angular_area).to(u.Jy, u.dimensionless_angles())\n",
    "flux_K_O6"
   ]
  },
  {
   "cell_type": "code",
   "execution_count": 44,
   "metadata": {},
   "outputs": [
    {
     "data": {
      "text/plain": [
       "5.643249466214532"
      ]
     },
     "execution_count": 44,
     "metadata": {},
     "output_type": "execute_result"
    }
   ],
   "source": [
    "flux_K_mag0 = 666.6*u.Jy # from 2MASS via file:///Users/adam/repos/adamginsburg.github.com/filtersets.htm\n",
    "mag_O6_K = -2.512*(np.log10(flux_K_O6.value) - np.log10(flux_K_mag0.value))\n",
    "mag_O6_K"
   ]
  },
  {
   "cell_type": "code",
   "execution_count": 45,
   "metadata": {},
   "outputs": [
    {
     "data": {
      "text/plain": [
       "9.326832526109937"
      ]
     },
     "execution_count": 45,
     "metadata": {},
     "output_type": "execute_result"
    }
   ],
   "source": [
    "# now the same at a distance of 5.4 kpc (for W51)\n",
    "mag_O6_K_W51 = mag_O6_K + 2.512*2*np.log10(5.41/1.0)\n",
    "mag_O6_K_W51"
   ]
  },
  {
   "cell_type": "markdown",
   "metadata": {},
   "source": [
    "Now, the same for an O9.5.  $L=10^{4.972}$, $R=8.5$, $T_{eff}=34620$"
   ]
  },
  {
   "cell_type": "code",
   "execution_count": 47,
   "metadata": {},
   "outputs": [
    {
     "data": {
      "text/latex": [
       "$1.7944411 \\times 10^{19} \\; \\mathrm{Jy}$"
      ],
      "text/plain": [
       "<Quantity 1.79444109e+19 Jy>"
      ]
     },
     "execution_count": 47,
     "metadata": {},
     "output_type": "execute_result"
    }
   ],
   "source": [
    "K_O9 = (blackbody((2.2*u.um).to(u.Hz,u.spectral()), 34620*u.K)*u.sr).to(u.Jy)\n",
    "K_O9"
   ]
  },
  {
   "cell_type": "code",
   "execution_count": 48,
   "metadata": {},
   "outputs": [],
   "source": [
    "R_O9 = 8.5*constants.R_sun"
   ]
  },
  {
   "cell_type": "code",
   "execution_count": 49,
   "metadata": {},
   "outputs": [
    {
     "data": {
      "text/plain": [
       "6.299607326293517"
      ]
     },
     "execution_count": 49,
     "metadata": {},
     "output_type": "execute_result"
    }
   ],
   "source": [
    "flux_K_O9 = (K_O9 * (R_O9/dist)**2 * np.pi * u.sr).to(u.Jy, u.dimensionless_angles())\n",
    "mag_O9_K = -2.512*(np.log10(flux_K_O9.value) - np.log10(flux_K_mag0.value))\n",
    "mag_O9_K"
   ]
  },
  {
   "cell_type": "code",
   "execution_count": 50,
   "metadata": {},
   "outputs": [
    {
     "data": {
      "text/plain": [
       "9.983190386188921"
      ]
     },
     "execution_count": 50,
     "metadata": {},
     "output_type": "execute_result"
    }
   ],
   "source": [
    "mag_O9_K_W51 = mag_O9_K + 2.512*2*np.log10(5.41/1.0)\n",
    "mag_O9_K_W51"
   ]
  },
  {
   "cell_type": "code",
   "execution_count": 51,
   "metadata": {},
   "outputs": [
    {
     "data": {
      "text/latex": [
       "$2.5928065 \\times 10^{13} \\; \\mathrm{\\frac{erg}{s\\,cm^{2}}}$"
      ],
      "text/plain": [
       "<Quantity 2.59280649e+13 erg / (cm2 s)>"
      ]
     },
     "execution_count": 51,
     "metadata": {},
     "output_type": "execute_result"
    }
   ],
   "source": [
    "# luminosity check:\n",
    "integrated_sed_O9 = integrate_sed(50*u.AA, 50*u.um, function=blackbody, temperature=34620*u.K)\n",
    "integrated_sed_O9"
   ]
  },
  {
   "cell_type": "code",
   "execution_count": 52,
   "metadata": {},
   "outputs": [
    {
     "data": {
      "text/latex": [
       "$8.1455421 \\times 10^{13} \\; \\mathrm{\\frac{erg}{s\\,cm^{2}}}$"
      ],
      "text/plain": [
       "<Quantity 8.14554207e+13 erg / (cm2 s)>"
      ]
     },
     "execution_count": 52,
     "metadata": {},
     "output_type": "execute_result"
    }
   ],
   "source": [
    "(constants.sigma_sb * (34620*u.K)**4).to(u.erg/u.s/u.cm**2)"
   ]
  },
  {
   "cell_type": "code",
   "execution_count": 53,
   "metadata": {},
   "outputs": [
    {
     "data": {
      "text/latex": [
       "$3.1415927 \\; \\mathrm{}$"
      ],
      "text/plain": [
       "<Quantity 3.14159275>"
      ]
     },
     "execution_count": 53,
     "metadata": {},
     "output_type": "execute_result"
    }
   ],
   "source": [
    "(constants.sigma_sb * (34620*u.K)**4).to(u.erg/u.s/u.cm**2) / integrated_sed_O9"
   ]
  },
  {
   "cell_type": "markdown",
   "metadata": {},
   "source": [
    "Check that the luminosity comes out right."
   ]
  },
  {
   "cell_type": "code",
   "execution_count": 54,
   "metadata": {},
   "outputs": [
    {
     "name": "stdout",
     "output_type": "stream",
     "text": [
      "Computed luminosity 93506.06285910773 solLum vs VGS96: 93756.20069258811 solLum\n"
     ]
    }
   ],
   "source": [
    "surface_area_O9 = 4*np.pi*R_O9**2\n",
    "lum_O9 = (integrated_sed_O9 * np.pi * surface_area_O9).to(u.L_sun)\n",
    "lum_O9\n",
    "print(\"Computed luminosity {0} vs VGS96: {1}\".format(lum_O9, 10**4.972*u.L_sun))"
   ]
  },
  {
   "cell_type": "code",
   "execution_count": 56,
   "metadata": {},
   "outputs": [
    {
     "name": "stdout",
     "output_type": "stream",
     "text": [
      "Computed luminosity 60915.48526865742 solLum vs VGS96: 61517.687270986775 solLum\n",
      "M_K = 10.207773418351648\n"
     ]
    }
   ],
   "source": [
    "# One last time, for B0.5\n",
    "T_B0 = 32060*u.K\n",
    "K_B0 = (blackbody((2.2*u.um).to(u.Hz,u.spectral()), T_B0)*u.sr).to(u.Jy)\n",
    "R_B0 = 8.0*constants.R_sun\n",
    "flux_K_B0 = (K_B0 * (R_B0/dist)**2 * np.pi * u.sr).to(u.Jy, u.dimensionless_angles())\n",
    "mag_B0_K = -2.512*(np.log10(flux_K_B0.value) - np.log10(flux_K_mag0.value))\n",
    "mag_B0_K_W51 = mag_B0_K + 2.512*2*np.log10(5.41/1.0)\n",
    "integrated_sed_B0 = integrate_sed(50*u.AA, 50*u.um, function=blackbody, temperature=T_B0)\n",
    "(constants.sigma_sb * (T_B0)**4).to(u.erg/u.s/u.cm**2) / integrated_sed_B0\n",
    "surface_area_B0 = 4*np.pi*R_B0**2\n",
    "lum_B0 = (integrated_sed_B0 * np.pi * surface_area_B0).to(u.L_sun)\n",
    "print(\"Computed luminosity {0} vs VGS96: {1}\".format(lum_B0, 10**4.789*u.L_sun))\n",
    "print(\"M_K = {0}\".format(mag_B0_K_W51))"
   ]
  },
  {
   "cell_type": "markdown",
   "metadata": {},
   "source": [
    "Changing temperatures"
   ]
  },
  {
   "cell_type": "code",
   "execution_count": 70,
   "metadata": {},
   "outputs": [
    {
     "data": {
      "image/png": "[encoded data removed]",
      "text/plain": [
       "<Figure size 864x576 with 1 Axes>"
      ]
     },
     "metadata": {
      "needs_background": "light"
     },
     "output_type": "display_data"
    }
   ],
   "source": [
    "pl.figure(figsize=(12,8))\n",
    "pl.rcParams['font.size'] = 16\n",
    "pl.loglog((constants.c/frequencies).to(u.um), (modified_blackbody(frequencies, 20*u.K, beta=2, column=1e22*u.cm**-2)*u.sr).to(u.Jy),  label=\"20 K\")\n",
    "pl.loglog((constants.c/frequencies).to(u.um), (modified_blackbody(frequencies, 30*u.K, beta=2, column=1e22*u.cm**-2)*u.sr).to(u.Jy),  label=\"30 K\")\n",
    "pl.loglog((constants.c/frequencies).to(u.um), (modified_blackbody(frequencies, 40*u.K, beta=2, column=1e22*u.cm**-2)*u.sr).to(u.Jy),  label=\"40 K\")\n",
    "pl.xlabel(\"Wavelength ($\\mu$m)\")\n",
    "pl.ylabel(\"Flux Density\")\n",
    "pl.legend(loc='best')\n",
    "pl.savefig(\"SEDsForTemperature.png\")"
   ]
  },
  {
   "cell_type": "code",
   "execution_count": null,
   "metadata": {},
   "outputs": [],
   "source": []
  }
 ],
 "metadata": {
  "kernelspec": {
   "display_name": "Python 3",
   "language": "python",
   "name": "python3"
  },
  "language_info": {
   "codemirror_mode": {
    "name": "ipython",
    "version": 3
   },
   "file_extension": ".py",
   "mimetype": "text/x-python",
   "name": "python",
   "nbconvert_exporter": "python",
   "pygments_lexer": "ipython3",
   "version": "3.7.3"
  }
 },
 "nbformat": 4,
 "nbformat_minor": 1
}
